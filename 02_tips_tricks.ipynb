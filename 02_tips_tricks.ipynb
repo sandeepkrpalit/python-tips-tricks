{
 "cells": [
  {
   "cell_type": "markdown",
   "metadata": {},
   "source": [
    "## 2. Merging Dictionaries\n",
    "If you have two dictionaries that you want to combine, you can do so using two easy methods. You can use the merge (|) operator or the (**) operator. Below we have two dictionaries name1 and name2."
   ]
  },
  {
   "cell_type": "markdown",
   "metadata": {},
   "source": [
    "### Method 1: Using the merge (|) operator."
   ]
  },
  {
   "cell_type": "code",
   "execution_count": 6,
   "metadata": {},
   "outputs": [
    {
     "name": "stdout",
     "output_type": "stream",
     "text": [
      "{'Sam': 21, 'Tom': 19, 'Rahul': 26, 'Jonathan': 21}\n"
     ]
    }
   ],
   "source": [
    "name1 = {\"Sam\":21, \"Tom\":19, \"Rahul\":26}\n",
    "name2 = {\"Jonathan\":21}\n",
    "\n",
    "names = name1 | name2\n",
    "print(names)"
   ]
  },
  {
   "cell_type": "markdown",
   "metadata": {},
   "source": [
    "### Method 2: Using the merge (**) operator."
   ]
  },
  {
   "cell_type": "code",
   "execution_count": 5,
   "metadata": {},
   "outputs": [
    {
     "name": "stdout",
     "output_type": "stream",
     "text": [
      "{'Sam': 21, 'Tom': 19, 'Rahul': 26, 'Jonathan': 21}\n"
     ]
    }
   ],
   "source": [
    "name1 = {\"Sam\":21, \"Tom\":19, \"Rahul\":26}\n",
    "name2 = {\"Jonathan\":21}\n",
    "\n",
    "names = {**name1, **name2}\n",
    "print(names)"
   ]
  },
  {
   "cell_type": "markdown",
   "metadata": {},
   "source": []
  }
 ],
 "metadata": {
  "kernelspec": {
   "display_name": ".venv",
   "language": "python",
   "name": "python3"
  },
  "language_info": {
   "codemirror_mode": {
    "name": "ipython",
    "version": 3
   },
   "file_extension": ".py",
   "mimetype": "text/x-python",
   "name": "python",
   "nbconvert_exporter": "python",
   "pygments_lexer": "ipython3",
   "version": "3.11.11"
  }
 },
 "nbformat": 4,
 "nbformat_minor": 2
}
