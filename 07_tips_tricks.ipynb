{
 "cells": [
  {
   "cell_type": "markdown",
   "metadata": {},
   "source": [
    "### Counting Item Occurrences\n",
    "\n",
    "If you want to know how many times an item appears in an iterable, you can use the `counter()` class from the collection module. The `counter` class will return a dictionary of how many times each item appears in an iterable."
   ]
  },
  {
   "cell_type": "code",
   "execution_count": null,
   "metadata": {},
   "outputs": [
    {
     "name": "stdout",
     "output_type": "stream",
     "text": [
      "The name `Tom` appears in the list 3 times\n"
     ]
    }
   ],
   "source": [
    "from collections import Counter\n",
    "\n",
    "list1 = ['Sam','Tom','Rahul','Tom','Sam','Tom']\n",
    "\n",
    "counter = Counter(list1).get(\"Tom\")\n",
    "\n",
    "print(f\"The name Tom appears in the list {counter} times\")"
   ]
  },
  {
   "cell_type": "markdown",
   "metadata": {},
   "source": [
    "Another way you can do it is by using a normal for loop."
   ]
  },
  {
   "cell_type": "code",
   "execution_count": 3,
   "metadata": {},
   "outputs": [
    {
     "name": "stdout",
     "output_type": "stream",
     "text": [
      "The name Tom appears in the list 3 times\n"
     ]
    }
   ],
   "source": [
    "list1 = ['Sam','Tom','Rahul','Tom','Sam','Tom']\n",
    "\n",
    "count = 0\n",
    "for name in list1:\n",
    "    if name == 'Tom':\n",
    "        count += 1\n",
    "\n",
    "print(f\"The name Tom appears in the list {count} times\")"
   ]
  },
  {
   "cell_type": "code",
   "execution_count": null,
   "metadata": {},
   "outputs": [],
   "source": []
  }
 ],
 "metadata": {
  "kernelspec": {
   "display_name": ".venv",
   "language": "python",
   "name": "python3"
  },
  "language_info": {
   "codemirror_mode": {
    "name": "ipython",
    "version": 3
   },
   "file_extension": ".py",
   "mimetype": "text/x-python",
   "name": "python",
   "nbconvert_exporter": "python",
   "pygments_lexer": "ipython3",
   "version": "3.11.11"
  }
 },
 "nbformat": 4,
 "nbformat_minor": 2
}
